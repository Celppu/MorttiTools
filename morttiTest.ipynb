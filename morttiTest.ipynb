{
 "cells": [
  {
   "cell_type": "markdown",
   "metadata": {},
   "source": []
  },
  {
   "cell_type": "code",
   "execution_count": 2,
   "metadata": {},
   "outputs": [
    {
     "data": {
      "text/html": [
       "\n",
       "        <iframe\n",
       "            width=\"600\"\n",
       "            height=\"400\"\n",
       "            src=\"http://localhost:52122/?53122\"\n",
       "            frameborder=\"0\"\n",
       "            allowfullscreen\n",
       "            \n",
       "        ></iframe>\n",
       "        "
      ],
      "text/plain": [
       "<IPython.lib.display.IFrame at 0x15e4b947010>"
      ]
     },
     "metadata": {},
     "output_type": "display_data"
    },
    {
     "data": {
      "application/vnd.jupyter.widget-view+json": {
       "model_id": "10653d1e403f4065b1d8c0e75961bbf6",
       "version_major": 2,
       "version_minor": 0
      },
      "text/plain": [
       "Label(value='Joint angles: [ 0.          0.          0.          0.         -1.57079633  0.        ]')"
      ]
     },
     "metadata": {},
     "output_type": "display_data"
    },
    {
     "data": {
      "application/vnd.jupyter.widget-view+json": {
       "model_id": "99c8c58d022c4466a630b46ad729ea76",
       "version_major": 2,
       "version_minor": 0
      },
      "text/plain": [
       "Label(value='Tool position: [ 0.48514  -0.12954   1.055659]')"
      ]
     },
     "metadata": {},
     "output_type": "display_data"
    }
   ],
   "source": [
    "import swift\n",
    "import roboticstoolbox as rtb\n",
    "import spatialmath as sm\n",
    "import numpy as np\n",
    "import ipywidgets as widgets\n",
    "from IPython.display import display, clear_output\n",
    "import spatialgeometry as sg\n",
    "#https://github.com/petercorke/robotics-toolbox-python/blob/master/roboticstoolbox/examples/neo.py\n",
    "\n",
    "env = swift.Swift()\n",
    "# Browser set to open in the notebook\n",
    "env.launch(realtime=True,browser=\"notebook\")\n",
    "\n",
    "#Mortti is puma560\n",
    "mortti = rtb.models.Puma560()\n",
    "\n",
    "mortti.q = mortti.qr # TODO: what is this?\n",
    "\n",
    "# set the joint angles to the ready pose or the zero angles\n",
    "mortti.q = np.zeros(6)\n",
    "\n",
    "# set tool to point forward\n",
    "mortti.q[4] = -np.pi/2\n",
    "\n",
    "# set example target pose\n",
    "Tep = mortti.fkine(mortti.q) * sm.SE3.Trans(0.1, 0.3, 0.4) * sm.SE3.Rz(np.pi/160)\n",
    "\n",
    "# Initial joint angles\n",
    "q0 = mortti.q\n",
    "# Initial tool pose\n",
    "T0 = mortti.fkine(mortti.q)\n",
    "\n",
    "# Add the robot to the environment\n",
    "env.add(mortti)\n",
    "\n",
    "# Create a cylinder to emulate a cup\n",
    "cylinder = sg.Cylinder(radius=0.05, length=0.2, pose=sm.SE3(0.3, 0.3, 0.2))\n",
    "# Translation offset for the cylinder\n",
    "offset = sm.SE3.Tx(-0.06) * sm.SE3.Tz(-0.1)  # Translation \n",
    "rotation = sm.SE3.Ry(np.pi / 2)  # Rotation\n",
    "\n",
    "\n",
    "# move the cylinder to the end-effector pose\n",
    "env.add(cylinder)\n",
    "\n",
    "# Simulation speed\n",
    "dt = 0.05\n",
    "\n",
    "# Labels for debugging\n",
    "\n",
    "angles_label = widgets.Label(value=f\"Joint angles: {mortti.q}\")\n",
    "\n",
    "position_label = widgets.Label(value=f\"Tool position: {T0.t}\")\n",
    "\n",
    "display(angles_label, position_label)\n",
    "\n",
    "\n",
    "toolAngle = 0 # in radians\n",
    "toolAngleStep = 0.1 # in radians\n",
    "# Demo loop\n",
    "while True:\n",
    "    arrived = False\n",
    "\n",
    "    while not arrived:\n",
    "        v, arrived = rtb.p_servo(mortti.fkine(mortti.q), Tep, 1)\n",
    "        mortti.qd = np.linalg.pinv(mortti.jacobe(mortti.q)) @ v\n",
    "        \n",
    "        # move the \"cup\" to the target pose\n",
    "        toolNow = mortti.fkine(mortti.q)\n",
    "        cylinder.T = toolNow * rotation * offset \n",
    "\n",
    "        env.step(dt)\n",
    "        angles_label.value = \"Joint angles: [\" + \", \".join(f\"{angle:.3f}\" for angle in mortti.q) + \"]\"\n",
    "        position_label.value = \"Tool position: [\" + \", \".join(f\"{pos:.3f}\" for pos in mortti.fkine(mortti.q).t) + \"]\"\n",
    "\n",
    "    # Move done. Simulation uses accelerations so remember to stop the robot\n",
    "    mortti.qd = np.zeros(6)\n",
    "\n",
    "    arrived = False\n",
    "    toolAngle = 0\n",
    "    # Rotate the tool to pour the liquid\n",
    "    while not arrived:\n",
    "        toolAngle = toolAngle + toolAngleStep\n",
    "        mortti.q[5] = toolAngle\n",
    "        toolNow = mortti.fkine(mortti.q)\n",
    "        cylinder.T = toolNow * rotation * offset\n",
    "        if toolAngle > np.pi/2:\n",
    "            arrived = True\n",
    "        env.step(dt)\n",
    "        # Update the labels\n",
    "        angles_label.value = \"Joint angles: [\" + \", \".join(f\"{angle:.3f}\" for angle in mortti.q) + \"]\"\n",
    "        position_label.value = \"Tool position: [\" + \", \".join(f\"{pos:.3f}\" for pos in mortti.fkine(mortti.q).t) + \"]\"\n",
    "\n",
    "    arrived = False\n",
    "    while not arrived:\n",
    "        toolAngle = toolAngle - toolAngleStep\n",
    "        mortti.q[5] = toolAngle\n",
    "        toolNow = mortti.fkine(mortti.q)\n",
    "        cylinder.T = toolNow * rotation * offset\n",
    "        if toolAngle < 0:\n",
    "            arrived = True\n",
    "        env.step(dt)\n",
    "        # Update the labels\n",
    "        angles_label.value = \"Joint angles: [\" + \", \".join(f\"{angle:.3f}\" for angle in mortti.q) + \"]\"\n",
    "        position_label.value = \"Tool position: [\" + \", \".join(f\"{pos:.3f}\" for pos in mortti.fkine(mortti.q).t) + \"]\"\n",
    "\n",
    "\n",
    "    #move the robot back to the initial pose\n",
    "    arrived = False\n",
    "    while not arrived:\n",
    "        v, arrived = rtb.p_servo(mortti.fkine(mortti.q), T0, 1)\n",
    "        mortti.qd = np.linalg.pinv(mortti.jacobe(mortti.q)) @ v\n",
    "        toolNow = mortti.fkine(mortti.q)\n",
    "        cylinder.T = toolNow * rotation * offset\n",
    "        env.step(dt)\n",
    "        # Update the labels\n",
    "        angles_label.value = \"Joint angles: [\" + \", \".join(f\"{angle:.3f}\" for angle in mortti.q) + \"]\"\n",
    "        position_label.value = \"Tool position: [\" + \", \".join(f\"{pos:.3f}\" for pos in mortti.fkine(mortti.q).t) + \"]\""
   ]
  }
 ],
 "metadata": {
  "kernelspec": {
   "display_name": "Python 3",
   "language": "python",
   "name": "python3"
  },
  "language_info": {
   "codemirror_mode": {
    "name": "ipython",
    "version": 3
   },
   "file_extension": ".py",
   "mimetype": "text/x-python",
   "name": "python",
   "nbconvert_exporter": "python",
   "pygments_lexer": "ipython3",
   "version": "3.10.7"
  }
 },
 "nbformat": 4,
 "nbformat_minor": 2
}
