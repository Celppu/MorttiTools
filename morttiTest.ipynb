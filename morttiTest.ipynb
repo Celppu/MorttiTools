{
 "cells": [
  {
   "cell_type": "markdown",
   "metadata": {},
   "source": []
  },
  {
   "cell_type": "code",
   "execution_count": 14,
   "metadata": {},
   "outputs": [
    {
     "data": {
      "text/html": [
       "\n",
       "        <iframe\n",
       "            width=\"600\"\n",
       "            height=\"400\"\n",
       "            src=\"http://localhost:52013/?53013\"\n",
       "            frameborder=\"0\"\n",
       "            allowfullscreen\n",
       "            \n",
       "        ></iframe>\n",
       "        "
      ],
      "text/plain": [
       "<IPython.lib.display.IFrame at 0x2630559d810>"
      ]
     },
     "metadata": {},
     "output_type": "display_data"
    },
    {
     "name": "stdout",
     "output_type": "stream",
     "text": [
      "C:\\Users\\Emil\\AppData\\Local\\Programs\\Python\\Python310\\Lib\\site-packages\\rtbdata\\xacro\\puma560_description\\urdf\\puma560_robot.urdf.xacro\n"
     ]
    },
    {
     "data": {
      "application/vnd.jupyter.widget-view+json": {
       "model_id": "803d41dcf6af4f4ea234452246538c17",
       "version_major": 2,
       "version_minor": 0
      },
      "text/plain": [
       "Label(value='Joint angles: [ 0.          0.          0.          0.         -1.57079633  0.        ]')"
      ]
     },
     "metadata": {},
     "output_type": "display_data"
    },
    {
     "data": {
      "application/vnd.jupyter.widget-view+json": {
       "model_id": "f53cdb1856ea49a2957eb22c56701a10",
       "version_major": 2,
       "version_minor": 0
      },
      "text/plain": [
       "Label(value='Tool position: [ 0.48514  -0.12954   1.055659]')"
      ]
     },
     "metadata": {},
     "output_type": "display_data"
    },
    {
     "ename": "KeyboardInterrupt",
     "evalue": "",
     "output_type": "error",
     "traceback": [
      "\u001b[1;31m---------------------------------------------------------------------------\u001b[0m",
      "\u001b[1;31mKeyboardInterrupt\u001b[0m                         Traceback (most recent call last)",
      "Input \u001b[1;32mIn [14]\u001b[0m, in \u001b[0;36m<cell line: 73>\u001b[1;34m()\u001b[0m\n\u001b[0;32m    114\u001b[0m \u001b[38;5;28;01mif\u001b[39;00m toolAngle \u001b[38;5;241m<\u001b[39m \u001b[38;5;241m0\u001b[39m:\n\u001b[0;32m    115\u001b[0m     arrived \u001b[38;5;241m=\u001b[39m \u001b[38;5;28;01mTrue\u001b[39;00m\n\u001b[1;32m--> 116\u001b[0m \u001b[43menv\u001b[49m\u001b[38;5;241;43m.\u001b[39;49m\u001b[43mstep\u001b[49m\u001b[43m(\u001b[49m\u001b[43mdt\u001b[49m\u001b[43m)\u001b[49m\n\u001b[0;32m    117\u001b[0m save_angles(mortti\u001b[38;5;241m.\u001b[39mq)\n\u001b[0;32m    118\u001b[0m \u001b[38;5;66;03m# Update the labels\u001b[39;00m\n",
      "File \u001b[1;32mc:\\Users\\Emil\\AppData\\Local\\Programs\\Python\\Python310\\lib\\site-packages\\swift\\Swift.py:244\u001b[0m, in \u001b[0;36mSwift.step\u001b[1;34m(self, dt, render)\u001b[0m\n\u001b[0;32m    241\u001b[0m     \u001b[38;5;28mself\u001b[39m\u001b[38;5;241m.\u001b[39m_skipped \u001b[38;5;241m=\u001b[39m \u001b[38;5;241m1\u001b[39m\n\u001b[0;32m    243\u001b[0m     \u001b[38;5;28;01mif\u001b[39;00m diff \u001b[38;5;241m>\u001b[39m \u001b[38;5;241m0\u001b[39m:\n\u001b[1;32m--> 244\u001b[0m         \u001b[43mtime\u001b[49m\u001b[38;5;241;43m.\u001b[39;49m\u001b[43msleep\u001b[49m\u001b[43m(\u001b[49m\u001b[43mdiff\u001b[49m\u001b[43m)\u001b[49m\n\u001b[0;32m    246\u001b[0m     \u001b[38;5;28mself\u001b[39m\u001b[38;5;241m.\u001b[39mlast_time \u001b[38;5;241m=\u001b[39m time\u001b[38;5;241m.\u001b[39mtime()\n\u001b[0;32m    247\u001b[0m \u001b[38;5;28;01melif\u001b[39;00m (time\u001b[38;5;241m.\u001b[39mtime() \u001b[38;5;241m-\u001b[39m \u001b[38;5;28mself\u001b[39m\u001b[38;5;241m.\u001b[39m_laststep) \u001b[38;5;241m<\u001b[39m \u001b[38;5;28mself\u001b[39m\u001b[38;5;241m.\u001b[39m_period:\n\u001b[0;32m    248\u001b[0m     \u001b[38;5;66;03m# Only render at 60 FPS\u001b[39;00m\n",
      "\u001b[1;31mKeyboardInterrupt\u001b[0m: "
     ]
    }
   ],
   "source": [
    "import swift\n",
    "import roboticstoolbox as rtb\n",
    "import spatialmath as sm\n",
    "import numpy as np\n",
    "import ipywidgets as widgets\n",
    "from IPython.display import display, clear_output\n",
    "import spatialgeometry as sg\n",
    "#https://github.com/petercorke/robotics-toolbox-python/blob/master/roboticstoolbox/examples/neo.py\n",
    "\n",
    "import time\n",
    "\n",
    "env = swift.Swift()\n",
    "# Browser set to open in the notebook\n",
    "env.launch(realtime=True,browser=\"notebook\")\n",
    "\n",
    "#Mortti is puma560\n",
    "mortti = rtb.models.Puma560()\n",
    "\n",
    "mortti.q = mortti.qr # TODO: what is this?\n",
    "\n",
    "# set the joint angles to the ready pose or the zero angles\n",
    "mortti.q = np.zeros(6)\n",
    "\n",
    "# set tool to point forward\n",
    "mortti.q[4] = -np.pi/2\n",
    "\n",
    "# set example target pose\n",
    "Tep = mortti.fkine(mortti.q) * sm.SE3.Trans(0.1, 0.25, 0.4) * sm.SE3.Rz(np.pi/160)\n",
    "\n",
    "# Initial joint angles\n",
    "q0 = mortti.q\n",
    "# Initial tool pose\n",
    "T0 = mortti.fkine(mortti.q)\n",
    "\n",
    "# Add the robot to the environment\n",
    "env.add(mortti)\n",
    "\n",
    "# Create a cylinder to emulate a cup\n",
    "cylinder = sg.Cylinder(radius=0.05, length=0.2, pose=sm.SE3(0.3, 0.3, 0.2))\n",
    "# Translation offset for the cylinder\n",
    "offset = sm.SE3.Tx(-0.06) * sm.SE3.Tz(-0.1)  # Translation \n",
    "rotation = sm.SE3.Ry(np.pi / 2)  # Rotation\n",
    "\n",
    "\n",
    "# move the cylinder to the end-effector pose\n",
    "env.add(cylinder)\n",
    "\n",
    "# Simulation speed\n",
    "dt = 0.1\n",
    "\n",
    "# Labels for debugging\n",
    "\n",
    "angles_label = widgets.Label(value=f\"Joint angles: {mortti.q}\")\n",
    "\n",
    "position_label = widgets.Label(value=f\"Tool position: {T0.t}\")\n",
    "\n",
    "display(angles_label, position_label)\n",
    "\n",
    "\n",
    "toolAngle = 0 # in radians\n",
    "toolAngleStep = 0.1 # in radians\n",
    "\n",
    "\n",
    "#save angles to a file in format \"\"\"j1: 0.461914, j2: 0.447021, j3: 0.528320, j4: 0.494141, j5: 0.417480, j6: 0.461914, safemode: 0, brake: 0, gripper: 1, dt: 1000\"\"\"\n",
    "# limit decimal places to 3\n",
    "# open file\n",
    "file = open(\"angles2.txt\", \"w\")\n",
    "\n",
    "def save_angles(angles): # Take in a list of angles and append them to the file\n",
    "    file.write(\"angle: j1: \" + str(round(angles[0], 3)) + \", j2: \" + str(round(angles[1], 3)) + \", j3: \" + str(round(angles[2], 3)) + \", j4: \" + str(round(angles[3], 3)) + \", j5: \" + str(round(angles[4], 3)) + \", j6: \" + str(round(angles[5], 3)) + \", safemode: 0, brake: 0, gripper: 1, dt: 1000\\n\")\n",
    "\n",
    "# Demo loop\n",
    "while True:\n",
    "    arrived = False\n",
    "\n",
    "    while not arrived:\n",
    "        v, arrived = rtb.p_servo(mortti.fkine(mortti.q), Tep, 1)\n",
    "        mortti.qd = np.linalg.pinv(mortti.jacobe(mortti.q)) @ v\n",
    "        \n",
    "        # move the \"cup\" to the target pose\n",
    "        toolNow = mortti.fkine(mortti.q)\n",
    "        cylinder.T = toolNow * rotation * offset \n",
    "\n",
    "        env.step(dt)\n",
    "        save_angles(mortti.q)\n",
    "        angles_label.value = \"Joint angles: [\" + \", \".join(f\"{angle:.3f}\" for angle in mortti.q) + \"]\"\n",
    "        position_label.value = \"Tool position: [\" + \", \".join(f\"{pos:.3f}\" for pos in mortti.fkine(mortti.q).t) + \"]\"\n",
    "\n",
    "    # Move done. Simulation uses accelerations so remember to stop the robot\n",
    "    mortti.qd = np.zeros(6)\n",
    "\n",
    "    arrived = False\n",
    "    toolAngle = 0\n",
    "    # Rotate the tool to pour the liquid\n",
    "    while not arrived:\n",
    "        toolAngle = toolAngle + toolAngleStep\n",
    "        mortti.q[5] = toolAngle\n",
    "        toolNow = mortti.fkine(mortti.q)\n",
    "        cylinder.T = toolNow * rotation * offset\n",
    "        if toolAngle > np.pi/2:\n",
    "            arrived = True\n",
    "        env.step(dt)\n",
    "        save_angles(mortti.q)\n",
    "        # Update the labels\n",
    "        angles_label.value = \"Joint angles: [\" + \", \".join(f\"{angle:.3f}\" for angle in mortti.q) + \"]\"\n",
    "        position_label.value = \"Tool position: [\" + \", \".join(f\"{pos:.3f}\" for pos in mortti.fkine(mortti.q).t) + \"]\"\n",
    "\n",
    "    arrived = False\n",
    "    while not arrived:\n",
    "        toolAngle = toolAngle - toolAngleStep\n",
    "        mortti.q[5] = toolAngle\n",
    "        toolNow = mortti.fkine(mortti.q)\n",
    "        cylinder.T = toolNow * rotation * offset\n",
    "        if toolAngle < 0:\n",
    "            arrived = True\n",
    "        env.step(dt)\n",
    "        save_angles(mortti.q)\n",
    "        # Update the labels\n",
    "        angles_label.value = \"Joint angles: [\" + \", \".join(f\"{angle:.3f}\" for angle in mortti.q) + \"]\"\n",
    "        position_label.value = \"Tool position: [\" + \", \".join(f\"{pos:.3f}\" for pos in mortti.fkine(mortti.q).t) + \"]\"\n",
    "\n",
    "\n",
    "    #move the robot back to the initial pose\n",
    "    arrived = False\n",
    "    while not arrived:\n",
    "        v, arrived = rtb.p_servo(mortti.fkine(mortti.q), T0, 1)\n",
    "        mortti.qd = np.linalg.pinv(mortti.jacobe(mortti.q)) @ v\n",
    "        toolNow = mortti.fkine(mortti.q)\n",
    "        cylinder.T = toolNow * rotation * offset\n",
    "        env.step(dt)\n",
    "        save_angles(mortti.q)\n",
    "        # Update the labels\n",
    "        angles_label.value = \"Joint angles: [\" + \", \".join(f\"{angle:.3f}\" for angle in mortti.q) + \"]\"\n",
    "        position_label.value = \"Tool position: [\" + \", \".join(f\"{pos:.3f}\" for pos in mortti.fkine(mortti.q).t) + \"]\"\n",
    "\n",
    "    # stop for 5 s\n",
    "    mortti.qd = np.zeros(6)\n",
    "    time.sleep(5)"
   ]
  }
 ],
 "metadata": {
  "kernelspec": {
   "display_name": "Python 3",
   "language": "python",
   "name": "python3"
  },
  "language_info": {
   "codemirror_mode": {
    "name": "ipython",
    "version": 3
   },
   "file_extension": ".py",
   "mimetype": "text/x-python",
   "name": "python",
   "nbconvert_exporter": "python",
   "pygments_lexer": "ipython3",
   "version": "3.10.7"
  }
 },
 "nbformat": 4,
 "nbformat_minor": 2
}
